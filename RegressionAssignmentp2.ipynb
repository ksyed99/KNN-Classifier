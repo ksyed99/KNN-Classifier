{
  "nbformat": 4,
  "nbformat_minor": 0,
  "metadata": {
    "colab": {
      "name": "RegressionAssignmentp2.ipynb",
      "provenance": [],
      "collapsed_sections": [],
      "include_colab_link": true
    },
    "kernelspec": {
      "name": "python3",
      "display_name": "Python 3"
    }
  },
  "cells": [
    {
      "cell_type": "markdown",
      "metadata": {
        "id": "view-in-github",
        "colab_type": "text"
      },
      "source": [
        "<a href=\"https://colab.research.google.com/github/ksyed99/ML_assignments/blob/main/RegressionAssignmentp2.ipynb\" target=\"_parent\"><img src=\"https://colab.research.google.com/assets/colab-badge.svg\" alt=\"Open In Colab\"/></a>"
      ]
    },
    {
      "cell_type": "code",
      "metadata": {
        "id": "Em2g3YFCh5rf",
        "colab": {
          "base_uri": "https://localhost:8080/"
        },
        "outputId": "4d54c592-01ee-4179-a88a-23f0c3fc7e53"
      },
      "source": [
        "## Machine Learning Online Class - Exercise 1: Linear Regression\n",
        "\n",
        "#  Instructions\n",
        "#  ------------\n",
        "# \n",
        "#  This file contains code that helps you get started on the\n",
        "#  linear exercise. You will need to complete the following functions \n",
        "#  in this exericse:\n",
        "#\n",
        "#   \n",
        "#     PART#02\n",
        "#         OPTIMIZATION FUNCTIONS\n",
        "#         LEARNING RATE\n",
        "#\n",
        "#\n",
        "#  For this exercise, you will not need to change any code in this file,\n",
        "#  or any other files other than those mentioned above.\n",
        "#\n",
        "# X refers to the population size in 10,000s\n",
        "# Y refers to the profit in $10,000s\n",
        "\t\n",
        "\n",
        "#Write the code below every comment\n",
        "import numpy as np\n",
        "from google.colab import drive, files\n",
        "drive.mount('/content/drive/')\n",
        "path = \"/content/drive/My Drive/ex1data1.txt\""
      ],
      "execution_count": 42,
      "outputs": [
        {
          "output_type": "stream",
          "text": [
            "Drive already mounted at /content/drive/; to attempt to forcibly remount, call drive.mount(\"/content/drive/\", force_remount=True).\n"
          ],
          "name": "stdout"
        }
      ]
    },
    {
      "cell_type": "code",
      "metadata": {
        "id": "FZzMQQo2rGCF",
        "colab": {
          "base_uri": "https://localhost:8080/",
          "height": 457
        },
        "outputId": "57a052d1-6de1-404a-d204-121de1a9afe3"
      },
      "source": [
        "import matplotlib.pyplot as plt\n",
        "\n",
        "# used for manipulating directory paths\n",
        "import os\n",
        "\n",
        "from pylab import *\n",
        "from numpy import *\n",
        "from numpy.random import normal\n",
        "from scipy.optimize import fmin_cg\n",
        "\n",
        "# Read comma separated data\n",
        "data = np.loadtxt(os.path.join('Data', path ), delimiter=',')\n",
        "X, Y = data[:, 0], data[:, 1]\n",
        "\n",
        "\n",
        "args = (X,Y)  # parameter values\n",
        "m=len(X)\n",
        "al=1\n",
        "lr2=[]\n",
        "X = np.stack([np.ones(m), X], axis=1)\n",
        "J = 0\n",
        "\n",
        "#--------  COST FUNCTION-------------\n",
        "def J(t,x,y):\n",
        "  theta=t\n",
        "  h = np.dot(X, theta)\n",
        "  #============YOUR COST FUNCTION CODE HERE====\n",
        "  total=0\n",
        "  for i in range(m):\n",
        "    squared_error=(h[i]-y[i])**2\n",
        "    total=total +squared_error\n",
        "    J= (1/(2*m))*total\n",
        "\n",
        "  #=====================================\n",
        "  lr2.append(J)\n",
        "  return J\n",
        "\n",
        "\n",
        "# -----------GRADIENT ONLY FUNCTION-----------\n",
        "def gradf(t, *args):\n",
        "  theta =t\n",
        "  #===============GRADIENT ONLY CODE HERE\n",
        "  h=np.dot(X,theta)\n",
        "  theta=(1/m)*X.T.dot(h-Y)\n",
        "\n",
        " #======================================\n",
        "  \n",
        "  return theta\n",
        "\n",
        "x0 = [0,0]  # Initial guess.\n",
        "from scipy import optimize\n",
        "\n",
        "res1 = optimize.fmin_cg(J, x0, fprime=gradf,args=args)\n",
        "lr1=lr2\n",
        "lr2=[]\n",
        "res2 = optimize.fmin(J, x0, args=args)\n",
        "\n",
        "\n",
        "\n",
        "plot(X[:,1],Y,'rx', X[:,1],np.dot(X, res1),'r', X[:,1], np.dot(X, res2),'b-.')\n",
        "plt.ylabel('Profit in $10,000s'); # Set the y ? axis label\n",
        "plt.xlabel('Population of City in 10,000s'); # Set the x ? axis label\n",
        "plt.legend([ 'Training data','fmin_cg','fmin']);\n",
        "plt.show()\n",
        "print(res1)"
      ],
      "execution_count": 43,
      "outputs": [
        {
          "output_type": "stream",
          "text": [
            "Optimization terminated successfully.\n",
            "         Current function value: 4.476971\n",
            "         Iterations: 6\n",
            "         Function evaluations: 14\n",
            "         Gradient evaluations: 14\n",
            "Optimization terminated successfully.\n",
            "         Current function value: 4.476971\n",
            "         Iterations: 90\n",
            "         Function evaluations: 172\n"
          ],
          "name": "stdout"
        },
        {
          "output_type": "display_data",
          "data": {
            "image/png": "[encoded data removed]",
            "text/plain": [
              "<Figure size 432x288 with 1 Axes>"
            ]
          },
          "metadata": {
            "tags": [],
            "needs_background": "light"
          }
        },
        {
          "output_type": "stream",
          "text": [
            "[-3.89582548  1.19303812]\n"
          ],
          "name": "stdout"
        }
      ]
    },
    {
      "cell_type": "code",
      "metadata": {
        "id": "tQUhdcGDrXIt",
        "colab": {
          "base_uri": "https://localhost:8080/",
          "height": 296
        },
        "outputId": "5c4f09dc-4aed-4198-ca54-8fb80fb42737"
      },
      "source": [
        "# plot learning rates of fmin and fmin_cg\n",
        "xx = linspace(0,25,len(lr1))\n",
        "xy = linspace(0,25,len(lr2))\n",
        "plt.subplot(2,1,1)\n",
        "\n",
        "plt.legend()   \n",
        "plt.plot( xx,lr1,'r',label='fmin_cg') # (lr1) learning rate 1 of fmin_cg\n",
        "plt.legend()\n",
        "plt.subplot(2,1,2)\n",
        "plt.plot( xy,lr2,'r',label='fmin')  # (lr2)  learning rate 1 of fmin_cg\n",
        "plt.ylabel('COST'); # Set the y  axis label\n",
        "plt.xlabel('ITERATIONS'); # Set the x  axis label \n",
        "plt.legend() \n",
        "show()"
      ],
      "execution_count": 44,
      "outputs": [
        {
          "output_type": "stream",
          "text": [
            "No handles with labels found to put in legend.\n"
          ],
          "name": "stderr"
        },
        {
          "output_type": "display_data",
          "data": {
            "image/png": "[encoded data removed]",
            "text/plain": [
              "<Figure size 432x288 with 2 Axes>"
            ]
          },
          "metadata": {
            "tags": [],
            "needs_background": "light"
          }
        }
      ]
    }
  ]
}